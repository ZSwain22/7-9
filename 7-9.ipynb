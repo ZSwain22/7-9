{
 "cells": [
  {
   "cell_type": "code",
   "execution_count": 18,
   "id": "29cf15db-ee61-4c22-8b04-43f601a25781",
   "metadata": {},
   "outputs": [
    {
     "name": "stdout",
     "output_type": "stream",
     "text": [
      "['mozzarella', 'Cinderella', 'salmonella']\n",
      "['MOZZARELLA', 'Cinderella', 'salmonella']\n",
      "['MOZZARELLA', 'Cinderella']\n"
     ]
    }
   ],
   "source": [
    "'''7.4'''\n",
    "things = [\"mozzarella\", \"cinderella\", \"salmonella\"]\n",
    "\n",
    "'''7.5'''\n",
    "things[1] = things[1].capitalize()\n",
    "print(things)\n",
    "\n",
    "'''7.6'''\n",
    "things[0] = things[0].upper()\n",
    "print(things)\n",
    "\n",
    "'''7.7'''\n",
    "things.remove(\"salmonella\")\n",
    "print(things)"
   ]
  },
  {
   "cell_type": "code",
   "execution_count": 54,
   "id": "a4e906bd-53a7-4b2c-a2f2-8e7f88b031d3",
   "metadata": {},
   "outputs": [
    {
     "name": "stdout",
     "output_type": "stream",
     "text": [
      "5\n"
     ]
    }
   ],
   "source": [
    "'''9.1'''\n",
    "def good():\n",
    "    list1 = ['Harry', 'Ron', 'Hermione']\n",
    "    return(list1)\n",
    "'''9.2'''\n",
    "def get_odds():\n",
    "    list2 = [] # Empty list to fill\n",
    "    for number in range(10):\n",
    "        if number % 2: # Check if divisible by 2\n",
    "            list2.append(number) # Add odd number to list\n",
    "    return(list2)\n",
    "\n",
    "output = get_odds() # Sets an external list\n",
    "print(output[2]) # Print 3rd position in list"
   ]
  },
  {
   "cell_type": "code",
   "execution_count": null,
   "id": "b1f8d767-40b4-4bea-b310-cf99e24e0063",
   "metadata": {},
   "outputs": [],
   "source": []
  }
 ],
 "metadata": {
  "kernelspec": {
   "display_name": "Python 3 (ipykernel)",
   "language": "python",
   "name": "python3"
  },
  "language_info": {
   "codemirror_mode": {
    "name": "ipython",
    "version": 3
   },
   "file_extension": ".py",
   "mimetype": "text/x-python",
   "name": "python",
   "nbconvert_exporter": "python",
   "pygments_lexer": "ipython3",
   "version": "3.12.4"
  }
 },
 "nbformat": 4,
 "nbformat_minor": 5
}
